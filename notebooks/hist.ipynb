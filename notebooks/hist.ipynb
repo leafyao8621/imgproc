{
 "cells": [
  {
   "cell_type": "code",
   "execution_count": 1,
   "id": "596da50f",
   "metadata": {},
   "outputs": [],
   "source": [
    "import imgproc.stats.hist"
   ]
  },
  {
   "cell_type": "code",
   "execution_count": 2,
   "id": "553180f6",
   "metadata": {},
   "outputs": [],
   "source": [
    "res = imgproc.stats.hist.hist(\"data/img4.png\")"
   ]
  },
  {
   "cell_type": "code",
   "execution_count": 3,
   "id": "39183ded",
   "metadata": {},
   "outputs": [
    {
     "data": {
      "text/plain": [
       "Hist:\n",
       "[   785      0      0      0      0      0      4      0      0      5\n",
       "      0      8      2      3      5      1     14     10     16     13\n",
       "      8      6     12     36     40    111    126     69   1845  67134\n",
       "     23     21     26     29     16     16     17     12     19     18\n",
       "     32     25    238  27382     39     37     54     54 254889   2150\n",
       "    489    229    199    160    101    415    114    107    133    131\n",
       "    135  68659    452    441  35249    145    188    181    201    192\n",
       "   1882    584    224    232    216    217    525   2029  15250    179\n",
       "    198    195    205    108    169    109    189    102    171    261\n",
       "    109     95    139    167    166    105    182     94    104    195\n",
       "    178     74    424    278    264    201    164    130    341    211\n",
       "    122    173    161    140    124   1255    155    290    163    166\n",
       "    153    164    226    133    182    169    166    234    177    113\n",
       "    201   2491    151    201    171    336    258    196    233    240\n",
       "    163    131    156    182    222    213    174    276    215    307\n",
       "    286    306    220    324    557    165    296    560    210    270\n",
       "    279    281    266    184    254    283    213    167    474    394\n",
       "    685    260    263    451    321    198    159    442    217    125\n",
       "    245    688    164    586    172    561    216    849    531    218\n",
       "    263    169    274    539    578    239    230    419    252    593\n",
       "   1402    363    272    751    495   1811    356    352   1064    701\n",
       "    297   1871    280    717   1167    716    866   1364    514   1881\n",
       "    357   2580    830   1797   2267   1250   2063   1314   2110   1814\n",
       "   1497   3457   3156   2445   4425  10235   2306   3632   3914   4899\n",
       "  99225   7083  84670   4750  11219   2929   1845  35402   1713   2249\n",
       "   3069   8614   5343   2355   3512 183706]\n",
       "Histr:\n",
       "[   950      0      0      1      0      0      5      1      0      4\n",
       "      0     10     12    167    639  15947     22     17     23     17\n",
       "     14     12    107     37     46    114    130    120   1918  67250\n",
       "     57     25     58     31     21     27     32     63    171     20\n",
       "     24     22    271  27553     84    166     62    442 255993   2352\n",
       "    694    356    330    522    168    457    153    121    135    242\n",
       "    308  69047    234    470  35256    307    543    197    189    174\n",
       "   1856    422    255    388    191    152    240   2008    708    237\n",
       "    596    178    159    156    177    155    340    275    227    326\n",
       "    205    241    190    278    210    154    140    133    145    290\n",
       "    227    193    362    188    222    303    245    322    240    233\n",
       "    148    115    225    149   1236    246    443    218    237    158\n",
       "    205    105    224    168    201    257    188    252    247    221\n",
       "    177   2387    180    196    182    312    317    490    243    208\n",
       "    222    148    231    178    220    189    194    309    231    206\n",
       "    194    235    133    244    265    128    261    257    195    256\n",
       "    190    247    219    173    285    137    110    165    427    215\n",
       "    384    229    228    553    180    170    168    317    124    157\n",
       "    532    667    164    222    155    234    605    904    166    182\n",
       "    252    853    265    207    640    265    594    981    273    231\n",
       "   1351    691    258    388    467   1437    655    320    676    361\n",
       "    639   1435    740    335   1113   1362    730   1199   1540   1805\n",
       "    346   2492    845   1547   2992    373   2104   1635   1308   3579\n",
       "   1235   2775   3322   2159   4984  10597   3890 100070   2731   3116\n",
       "   9608   6729  84392   3774   3154  35275    957   2284   1438   1792\n",
       "   2175   8429   5146   2339   3440 182746]\n",
       "Histg:\n",
       "[  1218      0     12      2      0      1      4      0      4     10\n",
       " 255853    422    478    288    234    144    179    145     60     30\n",
       "     88     61    125     92     91    150    163    244   2110  67601\n",
       "    557  15447     83    118    118    113     58     60    120     66\n",
       "     54  27455    341    232     75    237    143   2036    191     80\n",
       "     80    100    127    190     87     79    160    170  68290    422\n",
       "  35677    865    296    501    171    159    398    169    393    180\n",
       "   1839    354    261    128    115    214    200   1864    245    231\n",
       "    214    262    224    193    656    184    214    292    335    170\n",
       "    495    317    157    265    334   1898    250    190    278   2354\n",
       "    339    261   7019    334    400    208    305    308   2503    332\n",
       "    176    227    198    370   1383    330    193    291    392    177\n",
       "    311    182    185    205    273    411    440    560    368    466\n",
       "    355    273    315    505    233    180    217    260    175    295\n",
       "    195    262    268    586    428   1050    228   1020    660    711\n",
       "    634    524   1255    673    896    588   1046   1050    504    514\n",
       "    191    863    561    606    726    990    582    631    682    663\n",
       "    832    401    440    211    435    209    225    143    188    307\n",
       "    207   1156    340    157   2648    551    186   1273    175    155\n",
       "    186    518    248    188    565    439    324    988    247    333\n",
       "   1357    292    548   1067    420   1640    416    541    200    645\n",
       "    323   1756    345    772    994    270   1572    439    564   2628\n",
       "   1109    988   1609   1716   2189   1314   2006   1144   2417   1905\n",
       "   2452   2557   2531   2435   2045   3900   2511   4688 100427   2034\n",
       "   1910   4118  85279   8661   2307   2244  33721   2192   1606   1455\n",
       "   1537    626   1435   1522   3217 182035]\n",
       "Histb:\n",
       "[  4068     12     10      4      6      8    656    198     70     99\n",
       "    150     73     90     57    141     91     95     46    140     99\n",
       "     40     57     87     56    216    210    214    229   2044  67376\n",
       "    147    103    495    182    161    229 256184    215    217    366\n",
       "    241  27690    362    224   2111    141    148   1881     98    103\n",
       "     64    170    150   2302    160   6751    193    189  68245    227\n",
       "  35342    945    428    494    346    121    171    131    166    245\n",
       "   2217    560    357    289    323    318    855   2142  15385    186\n",
       "    174    333    638    471    527    574    871    241   1281    746\n",
       "    963    500    560    582    721    758    613    779    512   1056\n",
       "    367    605    784    639    649    615    591    505    725    899\n",
       "    817    590    457    310    264   1480    272    302    480    199\n",
       "    210    192    264    162   2409    152    201    309    244    176\n",
       "    233    408    288    277    295    208    286    213    245    252\n",
       "    214    186    177    152    149    244    142    187    186    191\n",
       "    219    212    143    186    229    242    321    284    235    242\n",
       "    221    189    268    166    147    322    263    190    534    236\n",
       "    554    256    459    167    279    151    119    296    212    119\n",
       "    269    732    160    682    275    282    234    862    486    338\n",
       "    222    248    285    553    524    147    168    326    264    519\n",
       "   1298    278    211    722    333   1670    294    278   1037    663\n",
       "    268   1683    381    761   1176    799    835   1247    448   1629\n",
       "    358   2544    926   1767   2293   1237   2142   1233   2153   1812\n",
       "   1545   3244   3040   1845   2408   3492   2120   3084   3665   4717\n",
       "  98777   3960  84546   1919  10287   2116   1377  34981   1167   1533\n",
       "   2040    662   1625   1499   3194 182018]"
      ]
     },
     "execution_count": 3,
     "metadata": {},
     "output_type": "execute_result"
    }
   ],
   "source": [
    "res"
   ]
  },
  {
   "cell_type": "code",
   "execution_count": 4,
   "id": "053ae817",
   "metadata": {},
   "outputs": [
    {
     "data": {
      "image/png": "[encoded data removed]",
      "text/plain": [
       "<Figure size 432x288 with 1 Axes>"
      ]
     },
     "metadata": {
      "needs_background": "light"
     },
     "output_type": "display_data"
    }
   ],
   "source": [
    "res.plot()"
   ]
  }
 ],
 "metadata": {
  "kernelspec": {
   "display_name": "Python 3 (ipykernel)",
   "language": "python",
   "name": "python3"
  },
  "language_info": {
   "codemirror_mode": {
    "name": "ipython",
    "version": 3
   },
   "file_extension": ".py",
   "mimetype": "text/x-python",
   "name": "python",
   "nbconvert_exporter": "python",
   "pygments_lexer": "ipython3",
   "version": "3.9.2"
  }
 },
 "nbformat": 4,
 "nbformat_minor": 5
}
